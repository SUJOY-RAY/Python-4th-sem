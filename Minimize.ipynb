{
  "nbformat": 4,
  "nbformat_minor": 0,
  "metadata": {
    "colab": {
      "provenance": [],
      "authorship_tag": "ABX9TyMVPjrDlrZD23qIXypcU2a7",
      "include_colab_link": true
    },
    "kernelspec": {
      "name": "python3",
      "display_name": "Python 3"
    },
    "language_info": {
      "name": "python"
    }
  },
  "cells": [
    {
      "cell_type": "markdown",
      "metadata": {
        "id": "view-in-github",
        "colab_type": "text"
      },
      "source": [
        "<a href=\"https://colab.research.google.com/github/SUJOY-RAY/Python-4th-sem/blob/main/Minimize.ipynb\" target=\"_parent\"><img src=\"https://colab.research.google.com/assets/colab-badge.svg\" alt=\"Open In Colab\"/></a>"
      ]
    },
    {
      "cell_type": "markdown",
      "source": [
        "#**Minimizing a function using BFGS**"
      ],
      "metadata": {
        "id": "_5sdl9LdW0Gf"
      }
    },
    {
      "cell_type": "code",
      "execution_count": null,
      "metadata": {
        "colab": {
          "base_uri": "https://localhost:8080/"
        },
        "id": "A3rPYIdfWodJ",
        "outputId": "2d089316-ff16-4a0f-86c3-0ac076097209"
      },
      "outputs": [
        {
          "output_type": "stream",
          "name": "stdout",
          "text": [
            "Optimal x: [2.99999998]\n",
            "Minimum value: 2.5388963550532293e-16\n",
            "Optimization success: True\n",
            "Message: Optimization terminated successfully.\n"
          ]
        }
      ],
      "source": [
        "import numpy as np\n",
        "from scipy.optimize import minimize\n",
        "\n",
        "# Define the function to be minimized\n",
        "def objective_function(x):\n",
        "    return (x - 3) ** 2\n",
        "\n",
        "# Initial guess\n",
        "x0 = np.array([0])  # Starting point for the optimization\n",
        "\n",
        "# Minimize the function\n",
        "result = minimize(objective_function, x0, method='BFGS')\n",
        "\n",
        "print(\"Optimal x:\", result.x)\n",
        "print(\"Minimum value:\", result.fun)\n",
        "print(\"Optimization success:\", result.success)\n",
        "print(\"Message:\", result.message)\n"
      ]
    },
    {
      "cell_type": "markdown",
      "source": [
        "# **Minimize a function using linprog**"
      ],
      "metadata": {
        "id": "MT7agDX4XT_E"
      }
    },
    {
      "cell_type": "code",
      "source": [
        "import numpy as np\n",
        "from scipy.optimize import linprog\n",
        "\n",
        "# Coefficients for the objective function\n",
        "c = [3, 2]\n",
        "\n",
        "# Coefficients for the inequality constraints (Ax <= b)\n",
        "A = [\n",
        "    [-1, -1],  # for constraint x1 + x2 >= 3, we use -1 because linprog considers <=\n",
        "    [2, 1],  # for constraint 2x1 + x2 <= 5\n",
        "]\n",
        "\n",
        "# Constants for the inequality constraints\n",
        "b = [-3, 5]  # corresponding to x1 + x2 >= 3 and 2x1 + x2 <= 5\n",
        "\n",
        "# Bounds for x1 and x2 (non-negative values)\n",
        "x_bounds = (0, None)  # this sets x1 >= 0\n",
        "y_bounds = (0, None)  # this sets x2 >= 0\n",
        "\n",
        "# Solve the linear optimization problem\n",
        "result = linprog(c, A_ub=A, b_ub=b, bounds=[x_bounds, y_bounds], method='highs')\n",
        "\n",
        "print(\"Optimal solution:\", result.x)\n",
        "print(\"Minimum value of the objective function:\", result.fun)\n",
        "print(\"Optimization success:\", result.success)\n",
        "print(\"Message:\", result.message)\n"
      ],
      "metadata": {
        "id": "U_l0Py5eXSaW"
      },
      "execution_count": null,
      "outputs": []
    }
  ]
}